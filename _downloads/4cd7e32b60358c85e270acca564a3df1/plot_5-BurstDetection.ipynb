{
  "cells": [
    {
      "cell_type": "code",
      "execution_count": null,
      "metadata": {
        "collapsed": false
      },
      "outputs": [],
      "source": [
        "%matplotlib inline"
      ]
    },
    {
      "cell_type": "markdown",
      "metadata": {},
      "source": [
        "\nBurst Detection\n===============\n\nThis notebook shows how to use `neurodsp.burst` to determine the portions\nof a signal that contain a burst of an oscillation of interest.\n\n"
      ]
    },
    {
      "cell_type": "code",
      "execution_count": null,
      "metadata": {
        "collapsed": false
      },
      "outputs": [],
      "source": [
        "import numpy as np\nimport matplotlib.pyplot as plt\n\nfrom neurodsp.sim import sim_noisy_bursty_oscillator\nfrom neurodsp.burst import detect_bursts_dual_threshold, compute_burst_stats"
      ]
    },
    {
      "cell_type": "code",
      "execution_count": null,
      "metadata": {
        "collapsed": false
      },
      "outputs": [],
      "source": [
        "# Set the random seed, for consistency simulating data\nnp.random.seed(0)"
      ]
    },
    {
      "cell_type": "markdown",
      "metadata": {},
      "source": [
        "Simulate a noisy and bursty oscillator\n--------------------------------------\n\nFirst, we'll simulate bursting activity in the alpha range on top of an aperiodic component.\n\n\n"
      ]
    },
    {
      "cell_type": "code",
      "execution_count": null,
      "metadata": {
        "collapsed": false
      },
      "outputs": [],
      "source": [
        "n_seconds = 5\nfs = 1000\nfreq = 10\nf_range = (8, 12)\n\nnoise_model = 'synaptic'\nnoise_args = {'n_neurons':1000, 'firing_rate':2, 't_ker':1.0, 'tau_r':0.002, 'tau_d':0.02}"
      ]
    },
    {
      "cell_type": "code",
      "execution_count": null,
      "metadata": {
        "collapsed": false
      },
      "outputs": [],
      "source": [
        "sig = sim_noisy_bursty_oscillator(n_seconds, fs, freq, noise_model, noise_args,\n                                  ratio_osc_var=2., prob_enter_burst=.2, prob_leave_burst=.2,)\ntimes = np.arange(0, n_seconds, 1/fs)"
      ]
    },
    {
      "cell_type": "code",
      "execution_count": null,
      "metadata": {
        "collapsed": false
      },
      "outputs": [],
      "source": [
        "plt.figure(figsize=(16, 3))\nplt.plot(times, sig, 'k', label='Simulated EEG')\nplt.xlim((0, n_seconds))"
      ]
    },
    {
      "cell_type": "markdown",
      "metadata": {},
      "source": [
        "We can see that 10Hz oscillations present 1.5-2.1 seconds and after 4.2 seconds.\n\n\n"
      ]
    },
    {
      "cell_type": "markdown",
      "metadata": {},
      "source": [
        "Dual amplitude threshold algorithm\n-----------------------------------\n\nThis algorithm first computes the amplitude at each point in time for\na given frequency range. This amplitude is then normalized by the average\n(default: median) amplitude of the whole time series. Two thresholds are\ndefined based off of this normalized amplitude. In order for a burst to be\ndetected, the amplitude must cross the higher amplitude threshold. The burst\nlasts until the amplitude then falls below the lower amplitude threshold.\n\n**Other Parameters:**\n* The average for normalization can be set to either the mean or median\nby modifying the `average_method` keyword argument.\n* Power can be used instead of amplitude by modifying the `magnitude_type`\nkeyword argument.\n\n\n"
      ]
    },
    {
      "cell_type": "code",
      "execution_count": null,
      "metadata": {
        "collapsed": false
      },
      "outputs": [],
      "source": [
        "# Detect bursts using 'deviation' algorithm\namp_dual_thresh = (1, 2)\nbursting = detect_bursts_dual_threshold(sig, fs, f_range, amp_dual_thresh)\n\n# Plot original signal and burst activity\nplt.figure(figsize=(12, 3))\nplt.plot(times, sig, 'k', label='simulated EEG')\nplt.plot(times[bursting], sig[bursting], 'r', label='burst detected')\nplt.legend(loc='best')"
      ]
    },
    {
      "cell_type": "markdown",
      "metadata": {},
      "source": [
        "The graph above shows the bursting activity in red. The algorithm was\nused with thresh=(1, 2), so any time point with more than 3 times the\nmedian magnitude in the alpha range (8-12 Hz) was marked as bursting activity.\n\n"
      ]
    },
    {
      "cell_type": "markdown",
      "metadata": {},
      "source": [
        "Burst detection applied to real recordings\n------------------------------------------\n\n"
      ]
    },
    {
      "cell_type": "code",
      "execution_count": null,
      "metadata": {
        "collapsed": false
      },
      "outputs": [],
      "source": [
        "# Load data\nsig = np.load('./data/sample_data_1.npy')\nfs = 1000\n\n# Same code as earlier\ntimes = np.arange(0, len(sig)/fs, 1/fs)\n\n# Detect bursts using 'deviation' algorithm\nbursting = detect_bursts_dual_threshold(sig, fs, f_range, dual_thresh=(3, 3))\n\n# Plot original signal and burst activity\nplt.figure(figsize=(12, 3))\nplt.plot(times, sig, 'k', label='simulated EEG')\nplt.plot(times[bursting], sig[bursting], 'r', label='burst detected')\nplt.legend(loc='best')"
      ]
    },
    {
      "cell_type": "markdown",
      "metadata": {},
      "source": [
        "No bursts were detected! There could be a number of reasons for this.\nOne of the easy things to do is to adjust the parameters for burst detection.\nLet's try making the thresholds lower.\n\n\n"
      ]
    },
    {
      "cell_type": "code",
      "execution_count": null,
      "metadata": {
        "collapsed": false
      },
      "outputs": [],
      "source": [
        "# Detect bursts using 'deviation' algorithm\nbursting = detect_bursts_dual_threshold(sig, fs, f_range, dual_thresh=(1, 2))\n\n# Plot original signal and burst activity\nplt.figure(figsize=(12, 3))\nplt.plot(times, sig, 'k', label='simulated EEG')\nplt.plot(times[bursting], sig[bursting], 'r', label='burst detected')\nplt.legend(loc='best')"
      ]
    },
    {
      "cell_type": "markdown",
      "metadata": {},
      "source": [
        "Better, but not very good. Note the undetected cycles just before 9s.\n\nThere's another serious issue: we're looking for alpha bursts,\nbut the bursts in this data are *beta* bursts.\n\n\n"
      ]
    },
    {
      "cell_type": "code",
      "execution_count": null,
      "metadata": {
        "collapsed": false
      },
      "outputs": [],
      "source": [
        "# Detect bursts\nbursting = detect_bursts_dual_threshold(sig, fs, (13, 30), dual_thresh=(1, 2))\n\n# Plot original signal and burst activity\nplt.figure(figsize=(12, 3))\nplt.plot(times, sig, 'k', label='simulated EEG')\nplt.plot(times[bursting], sig[bursting], 'r', label='burst detected')\nplt.legend(loc='best')"
      ]
    },
    {
      "cell_type": "markdown",
      "metadata": {},
      "source": [
        "Much better! This just goes to show that burst detection is an art that\nrequires some knowledge of the data you're working with.\n\n\n"
      ]
    },
    {
      "cell_type": "markdown",
      "metadata": {},
      "source": [
        "Sphinx settings:\nsphinx_gallery_thumbnail_number = 2\n\n\n"
      ]
    }
  ],
  "metadata": {
    "kernelspec": {
      "display_name": "Python 3",
      "language": "python",
      "name": "python3"
    },
    "language_info": {
      "codemirror_mode": {
        "name": "ipython",
        "version": 3
      },
      "file_extension": ".py",
      "mimetype": "text/x-python",
      "name": "python",
      "nbconvert_exporter": "python",
      "pygments_lexer": "ipython3",
      "version": "3.7.1"
    }
  },
  "nbformat": 4,
  "nbformat_minor": 0
}