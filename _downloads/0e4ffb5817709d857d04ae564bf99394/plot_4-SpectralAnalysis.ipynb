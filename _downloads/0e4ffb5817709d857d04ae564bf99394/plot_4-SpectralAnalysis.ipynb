{
  "cells": [
    {
      "cell_type": "code",
      "execution_count": null,
      "metadata": {
        "collapsed": false
      },
      "outputs": [],
      "source": [
        "%matplotlib inline"
      ]
    },
    {
      "cell_type": "markdown",
      "metadata": {},
      "source": [
        "\nSpectral domain analysis\n========================\n\nIn this tutorial, we will demonstrate how to use spectral domain analysis functions.\n\nThis tutorial covers:\n\n- Computing the power spectral density (PSD)\n- Computing and displaying the spectral histogram\n- Computing the spectral coefficient of variation (SCV) and the resampled estimates\n\nDetailed explanations for each of the above concept are provided below as we come across them.\n\n"
      ]
    },
    {
      "cell_type": "code",
      "execution_count": null,
      "metadata": {
        "collapsed": false
      },
      "outputs": [],
      "source": [
        "import numpy as np\nfrom scipy import io\nimport matplotlib.pylab as plt\n\nfrom neurodsp import spectral\nfrom neurodsp.plts.spectral import plot_spectral_hist"
      ]
    },
    {
      "cell_type": "code",
      "execution_count": null,
      "metadata": {
        "collapsed": false
      },
      "outputs": [],
      "source": [
        "# First, we load the sample data, which is a segment of rat hippocampal LFP\n# taken from the publicly available neuro database CRCNS (hc2).\n# Relevant publication: Mizuseki et al, 2012, Nature Neuro\ndata = io.loadmat('./data/sample_data_2.mat', squeeze_me=True)\nsig = data['x']\nfs = data['fs']\ntimes = np.arange(len(sig))/fs\nplt.plot(times, sig)\nplt.xlim((0, 3))\nplt.xlabel('Time (s)')\nplt.ylabel('Voltage')\n\n# Plotting the data, we observe a strong theta oscillation (~6-8 Hz)"
      ]
    },
    {
      "cell_type": "markdown",
      "metadata": {},
      "source": [
        "Computing the power spectral density (PSD)\n==========================================\n\nA PSD is a frequency domain representation of a time series.\n\nUsing the Fourier transform, the signal is split into orthogonal\ncomponents of different frequency.\n\nIn this toolbox, there are a few ways of estimating the PSD:\n\n- 'mean' : same as Welch's method; mean over spectrogram of data.\n  This is the most straightforward and \"standard\" way of computing the PSD.\n- 'median' : similar to Welch's method; median (instead of mean) over\n  spectrogram of data. This diminishes the effect of outlier power values\n  from signal artifacts.\n- 'medfilt' : median filtered of FFT magnitude squared.\n\n\n"
      ]
    },
    {
      "cell_type": "code",
      "execution_count": null,
      "metadata": {
        "collapsed": false
      },
      "outputs": [],
      "source": [
        "# Mean of spectrogram (Welch)\nfreq_mean, psd_mean = spectral.compute_spectrum(sig, fs, method='mean', nperseg=fs*2)\n\n# Median of spectrogram (\"median Welch\")\nfreq_med, psd_med = spectral.compute_spectrum(sig, fs, method='median', nperseg=fs*2)\n\n# Median filtered spectrum\nfreq_mf, psd_mf = spectral.compute_spectrum(sig, fs, method='medfilt')"
      ]
    },
    {
      "cell_type": "code",
      "execution_count": null,
      "metadata": {
        "collapsed": false
      },
      "outputs": [],
      "source": [
        "# Plot the power spectra\nplt.figure(figsize=(8, 8))\nplt.loglog(freq_mean[:200], psd_mean[:200], label='Welch')\nplt.loglog(freq_med[:200], psd_med[:200], label='Median Welch')\nplt.loglog(freq_mf[100:10000], psd_mf[100:10000], label='Median Filter FFT')\nplt.legend()\nplt.xlabel('Frequency (Hz)')\nplt.ylabel('Power (V^2/Hz)')"
      ]
    },
    {
      "cell_type": "markdown",
      "metadata": {},
      "source": [
        "Aside: Fitting 1/f and oscillations in power spectra\n----------------------------------------------------\n\nYou might notice in the above power spectra that there are regions of band-specific power,\nreflecting oscillations, as well as regions that show linear decrease when plotted in\nlog-log scale, in particular the frequency region between 30-100Hz. As well as a large body of\nwork investigating oscillations, this \"1/f-like\" aperiodic components has been found to\ncorrelate with aging, memory, and cognitive control in several previous publications,\nand has been proposed to reflect the physiological  balance between excitation and inhibition.\n\nSee for example: Voytek et al., JNeuro, 2015; Podvalny et al.,\nJNeurophysiol, 2015; Gao et al., NeuroImage, 2017; Lombardi et al., Chaos, 2017\n\nIf you are interesting in measuring these periodic (oscillatory) and aperiodic\n(1/f like) components from power spectra, check out the 'fitting oscillations &\none-over f' `toolbox <https://fooof-tools.github.io/fooof/>`_.\n\n\n"
      ]
    },
    {
      "cell_type": "markdown",
      "metadata": {},
      "source": [
        "Spectral histogram\n------------------\n\nThe PSD is an estimate of the central tendency (mean/median) of the\nsignal's power at each frequency, with the assumption that the signal\nis relatively stationary and that the variance around the mean comes\nfrom various forms of noise.\n\nHowever, in physiological data, we may be interested in visualizing the\ndistribution of power values around the mean at each frequency, as estimated\nin sequential slices of short-time Fourier transform (STFT), since it may\nreveal non-stationarities in the data or particular frequencies that are\nnot like the rest. Here, we simply bin the log-power values across time,\nin a histogram, to observe the noise distribution at each frequency.\n\n\n"
      ]
    },
    {
      "cell_type": "code",
      "execution_count": null,
      "metadata": {
        "collapsed": false
      },
      "outputs": [],
      "source": [
        "# Calculate the spectral histogram\nfreqs, bins, spect_hist = spectral.spectral_hist(sig, fs, nbins=50, f_lim=(0, 80),\n                                                 cutpct=(0.1, 99.9))\n\n# Plot the spectral histogram\nplot_spectral_hist(freqs, bins, spect_hist, freq_med, psd_med)"
      ]
    },
    {
      "cell_type": "markdown",
      "metadata": {},
      "source": [
        "Notice in the below plot that not only is theta power higher overall (shifted up),\nit also has lower variance around its mean.\n\n\n"
      ]
    },
    {
      "cell_type": "markdown",
      "metadata": {},
      "source": [
        "Spectral Coefficient of Variation\n=================================\n\nAs noted above, the range of log-power values in the theta frequency range\nis lower compared to other frequencies, while that of 30-100Hz appear to be\nquite constant across the entire frequency axis (homoscedasticity). To quantify\nthat, we compute the coefficient of variation (standard deviation/mean) as a\nnormalized estimate of variance.\n\n\n"
      ]
    },
    {
      "cell_type": "code",
      "execution_count": null,
      "metadata": {
        "collapsed": false
      },
      "outputs": [],
      "source": [
        "# Calculate SCV\nfreqs, scv = spectral.compute_scv(sig, fs, nperseg=int(fs), noverlap=0)\n\n# Plot the SCV\nplt.figure(figsize=(5, 5))\nplt.loglog(freqs, scv)\nplt.xlim([1, 200])\nplt.xlabel('Frequency (Hz)')\nplt.ylabel('SCV')"
      ]
    },
    {
      "cell_type": "markdown",
      "metadata": {},
      "source": [
        "As shown above, SCV calculated from the entire segment of data is quite\nnoise due to the single estimate of mean and standard deviation. To overcome\nthis, we can compute a bootstrap-resampled estimate of SCV, by randomly drawing\nslices from the non-overlapping spectrogram and taking their average.\n\n\n"
      ]
    },
    {
      "cell_type": "code",
      "execution_count": null,
      "metadata": {
        "collapsed": false
      },
      "outputs": [],
      "source": [
        "# Calculate SCV with the resampling method\nfreqs, t_inds, scv_rs = spectral.compute_scv_rs(sig, fs, nperseg=fs, method='bootstrap',\n                                                rs_params=(20, 200))\n\n# Plot the SCV, from the resampling method\nplt.figure(figsize=(8, 8))\nplt.loglog(freqs, scv_rs, 'k', alpha=0.1)\nplt.loglog(freqs, np.mean(scv_rs, axis=1), lw=2)\nplt.loglog(freqs, len(freqs)*[1.])\nplt.xlim((1, 200))\nplt.xlabel('Frequency (Hz)')\nplt.ylabel('SCV')"
      ]
    },
    {
      "cell_type": "markdown",
      "metadata": {},
      "source": [
        "Another way to compute the resampled SCV is via a sliding window approach,\nessentially smoothing over consecutive slices of the spectrogram to compute\nthe mean and std estimates.\n\n\n"
      ]
    },
    {
      "cell_type": "code",
      "execution_count": null,
      "metadata": {
        "collapsed": false
      },
      "outputs": [],
      "source": [
        "# Calculate SCV with the resampling method\nfreqs, t_inds, scv_rs = spectral.compute_scv_rs(sig, fs, method='rolling', rs_params=(10, 2))\n\n# Plot the SCV, from the resampling method\nplt.figure(figsize=(10, 5))\nplt.imshow(np.log10(scv_rs), aspect='auto', extent=(t_inds[0], t_inds[-1], freqs[-1], freqs[0]))\nplt.colorbar(label='SCV')\nplt.ylim((100, 0))\nplt.ylabel('Frequency (Hz)')\nplt.xlabel('Time (s)')"
      ]
    },
    {
      "cell_type": "markdown",
      "metadata": {},
      "source": [
        "In the plot below, we see that the theta band (~7Hz) consistently has CV\nof less than 1 (negative in log10).\n\n\n"
      ]
    },
    {
      "cell_type": "markdown",
      "metadata": {},
      "source": [
        "Spectral Rotation\n=================\n\nAnother included utility function is spectral rotation, which rotates\nthe power spectrum about a given axis frequency, by an amount indicated\nby the exponent (negative is clockwise, positive is counterclockwise).\n\nThis function is mostly useful for investigating the effect of rotating\nthe spectrum in frequency domain on the time domain signal. Effectively,\nthis performs a very specific type of filtering with an ultra long filter kernel.\n\nFor complete details, see the **Simulation** tutorial.\n\n\n"
      ]
    },
    {
      "cell_type": "code",
      "execution_count": null,
      "metadata": {
        "collapsed": false
      },
      "outputs": [],
      "source": [
        "psd_rot = spectral.rotate_powerlaw(freq_med, psd_med, delta_f=-1, f_rotation=35)\nplt.figure(figsize=(5, 5))\nplt.loglog(freq_med[:200], psd_med[:200], label='Original')\nplt.loglog(freq_med[:200], psd_rot[:200], label='Rotated')\nplt.legend()"
      ]
    }
  ],
  "metadata": {
    "kernelspec": {
      "display_name": "Python 3",
      "language": "python",
      "name": "python3"
    },
    "language_info": {
      "codemirror_mode": {
        "name": "ipython",
        "version": 3
      },
      "file_extension": ".py",
      "mimetype": "text/x-python",
      "name": "python",
      "nbconvert_exporter": "python",
      "pygments_lexer": "ipython3",
      "version": "3.7.1"
    }
  },
  "nbformat": 4,
  "nbformat_minor": 0
}