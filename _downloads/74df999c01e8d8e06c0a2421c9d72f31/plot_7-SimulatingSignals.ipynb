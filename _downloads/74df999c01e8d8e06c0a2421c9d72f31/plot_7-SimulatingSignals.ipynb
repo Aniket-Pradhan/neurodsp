{
  "cells": [
    {
      "cell_type": "code",
      "execution_count": null,
      "metadata": {
        "collapsed": false
      },
      "outputs": [],
      "source": [
        "%matplotlib inline"
      ]
    },
    {
      "cell_type": "markdown",
      "metadata": {},
      "source": [
        "\nSimulating Signals\n==================\n\n"
      ]
    },
    {
      "cell_type": "markdown",
      "metadata": {},
      "source": [
        "Simulating 1/f-like noise and oscillatory signals with neurodsp.sim\n\nIn this notebook, we simulate 'brown'-like noise from several models,\nstationary and non-stationary oscillators, and the two together using\nthe simulation library, `sim`, in `neurodsp`.\n\n"
      ]
    },
    {
      "cell_type": "code",
      "execution_count": null,
      "metadata": {
        "collapsed": false
      },
      "outputs": [],
      "source": [
        "import numpy as np\nnp.random.seed(0)\n\nfrom neurodsp import spectral, sim\n\nimport matplotlib.pyplot as plt"
      ]
    },
    {
      "cell_type": "markdown",
      "metadata": {},
      "source": [
        "Simulate brown noise\n--------------------\n\nOften, we want to simulate noise that is comparable to what we see in\nneural recordings. Brown noise is a good proxy for that because,\nlike neural signals, power decreases roughly linearly with frequency.\n\n"
      ]
    },
    {
      "cell_type": "code",
      "execution_count": null,
      "metadata": {
        "collapsed": false
      },
      "outputs": [],
      "source": [
        "# Simulate brown noise\nn_seconds = 10\nfs = 1000\nexponent = -2\nt = np.arange(0, n_seconds, 1/fs)\nbr_noise = sim.sim_variable_powerlaw(n_seconds, fs, exponent)"
      ]
    },
    {
      "cell_type": "code",
      "execution_count": null,
      "metadata": {
        "collapsed": false
      },
      "outputs": [],
      "source": [
        "# Plot time series\nplt.figure(figsize=(12,3))\nplt.plot(t, br_noise, 'k')\nplt.xlabel('Time (s)')\nplt.ylabel('Voltage')"
      ]
    },
    {
      "cell_type": "code",
      "execution_count": null,
      "metadata": {
        "collapsed": false
      },
      "outputs": [],
      "source": [
        "# Plot power spectrum\nfreqs, psd = spectral.compute_spectrum(br_noise, fs)\nplt.figure(figsize=(5,5))\nplt.loglog(freqs, psd, 'k')\nplt.xlabel('Frequency (Hz)')\nplt.ylabel('Power')"
      ]
    },
    {
      "cell_type": "markdown",
      "metadata": {},
      "source": [
        "Simulate filtered brown noise\n-----------------------------\n\nHowever, brown noise has a lot of power in very slow frequnecies,\nwhereas these slow frequencies are often not present or filtered out\nin neural signals. Therefore, we may desire our brown noise to be\nhigh-pass filtered. See that the resulting signal has much less\nlow-frequency drift.\n\nNote this might not be ideal because it creates an \"oscillation\" at\nthe cutoff frequency.\n\n"
      ]
    },
    {
      "cell_type": "code",
      "execution_count": null,
      "metadata": {
        "collapsed": false
      },
      "outputs": [],
      "source": [
        "# Simulate highpass-filtered brown noise with a 1Hz cutoff frequency\nf_hipass_brown = 1\nbrown_filt = sim.sim_filtered_noise(n_seconds, fs, exponent, (f_hipass_brown, None))"
      ]
    },
    {
      "cell_type": "code",
      "execution_count": null,
      "metadata": {
        "collapsed": false
      },
      "outputs": [],
      "source": [
        "# Plot time series\nplt.figure(figsize=(12,3))\nplt.plot(t, brown_filt, 'k')\nplt.xlabel('Time (s)')\nplt.ylabel('Voltage')"
      ]
    },
    {
      "cell_type": "code",
      "execution_count": null,
      "metadata": {
        "collapsed": false
      },
      "outputs": [],
      "source": [
        "# Plot power spectrum\nf, psd = spectral.compute_spectrum(brown_filt, fs)\nplt.figure(figsize=(5,5))\nplt.loglog(f, psd, 'k')\nplt.xlabel('Frequency (Hz)')\nplt.ylabel('Power')"
      ]
    },
    {
      "cell_type": "markdown",
      "metadata": {},
      "source": [
        "Note: `sim_variable_powerlaw()` and `sim_filtered_noise()` can support\narbitrary power law exponents, such as pink noise (-1).\n\n\n"
      ]
    },
    {
      "cell_type": "code",
      "execution_count": null,
      "metadata": {
        "collapsed": false
      },
      "outputs": [],
      "source": [
        "# Other 1/f-like noises\n# ---------------------\n#\n# We can also simulate an Ornstein-Uhlenbeck process (random walk with memory),\n# as well as 'synaptic (Lorentzian) noise', which is white noise convolved\n# with an exponentially-decaying kernel mimicking the shape of a post-synaptic\n# potential.\n#\n# Both of these noise models produce 1/f scaling in higher frequencies with a\n# fixed exponent of -2. For more details on their usage in simulating neural\n# signals, please see Destexhe et al., 2001 and Gao et al., 2017."
      ]
    },
    {
      "cell_type": "code",
      "execution_count": null,
      "metadata": {
        "collapsed": false
      },
      "outputs": [],
      "source": [
        "ou_noise = sim.sim_ou_process(n_seconds, fs)\nsyn_noise = sim.sim_synaptic_noise(n_seconds, fs)"
      ]
    },
    {
      "cell_type": "code",
      "execution_count": null,
      "metadata": {
        "collapsed": false
      },
      "outputs": [],
      "source": [
        "# Plot time series\nplt.figure(figsize=(12,6))\nplt.subplot(2,1,1, title='OU Process')\nplt.plot(t, ou_noise, 'k')\nplt.subplot(2,1,2, title='Synaptic Noise')\nplt.plot(t, syn_noise, 'r')\nplt.xlabel('Time (s)')\nplt.ylabel('Voltage')"
      ]
    },
    {
      "cell_type": "code",
      "execution_count": null,
      "metadata": {
        "collapsed": false
      },
      "outputs": [],
      "source": [
        "# Plot power spectrum\nf, ou_psd = spectral.compute_spectrum(ou_noise, fs)\nf, syn_psd = spectral.compute_spectrum(syn_noise, fs)\nplt.figure(figsize=(5,5))\nplt.loglog(f, ou_psd, 'k', label='OU')\nplt.loglog(f, syn_psd, 'r', label='Synaptic')\nplt.legend()\nplt.xlabel('Frequency (Hz)')\nplt.ylabel('Power')"
      ]
    },
    {
      "cell_type": "markdown",
      "metadata": {},
      "source": [
        "Simulate a stationary oscillator\n--------------------------------\n\nIn addition to noise, you may also want to simulate an oscillatory process.\nWe can do that with neurodsp, with arbitrary rise-decay symmetry.\n\n"
      ]
    },
    {
      "cell_type": "code",
      "execution_count": null,
      "metadata": {
        "collapsed": false
      },
      "outputs": [],
      "source": [
        "# Simulate symmetric oscillator\nn_samples_cycle = 100\nfs = 1000\nosc_freq = 6.5\noscA = sim.sim_oscillator(n_samples_cycle, fs, osc_freq, rdsym=.5)\noscB = sim.sim_oscillator(n_samples_cycle, fs, osc_freq, rdsym=.2)"
      ]
    },
    {
      "cell_type": "code",
      "execution_count": null,
      "metadata": {
        "collapsed": false
      },
      "outputs": [],
      "source": [
        "# Plot time series\nplt.figure(figsize=(12,3))\nplt.plot(oscA, 'k', label='rdsym='+str(.5), alpha=.8)\nplt.plot(oscB, 'r', label='rdsym='+str(.3), alpha=.8)\nplt.ylim((-1.1, 1.7))\nplt.xlim((0, 1000))\nplt.legend()\nplt.xlabel('Time (sample)')\nplt.ylabel('Voltage')"
      ]
    },
    {
      "cell_type": "code",
      "execution_count": null,
      "metadata": {
        "collapsed": false
      },
      "outputs": [],
      "source": [
        "# Plot power spectrum\nfA, psdA = spectral.compute_spectrum(oscA, 1000)\nfB, psdB = spectral.compute_spectrum(oscB, 1000)\nplt.figure(figsize=(5,5))\nplt.loglog(fA, psdA, 'k', alpha=.5)\nplt.loglog(fB, psdB, 'r', alpha=.5)\nplt.xlabel('Frequency (Hz)')\nplt.ylabel('Power')"
      ]
    },
    {
      "cell_type": "code",
      "execution_count": null,
      "metadata": {
        "collapsed": false
      },
      "outputs": [],
      "source": [
        "# Notice the strong harmonics resulting from the non-sinusoidal nature of\n# the red oscillation."
      ]
    },
    {
      "cell_type": "markdown",
      "metadata": {},
      "source": [
        "Simulate a noisy oscillator\n---------------------------\n\nIn order to simulate a signal that looks more like a brain signal,\nyou may want to simulate both an oscillation and noise. We also do this\nwith neurodsp bycan combining all of the above, with control over the\npower ratio between oscillation and noise.\n\nYou can use any of the above noise models to generate the background\nnoise by passing in its name (str argument) and the required model\nparameters as a dictionary.\n\n"
      ]
    },
    {
      "cell_type": "code",
      "execution_count": null,
      "metadata": {
        "collapsed": false
      },
      "outputs": [],
      "source": [
        "osc_freq = 8\nn_seconds = 5\nfs = 1000\nrdsym = .3\nSNR=1."
      ]
    },
    {
      "cell_type": "code",
      "execution_count": null,
      "metadata": {
        "collapsed": false
      },
      "outputs": [],
      "source": [
        "noise_model = 'synaptic'\nnoise_args = {'n_neurons':1000, 'firing_rate':2, 't_ker':1.0,\n              'tau_r':0.002, 'tau_d':0.02}\nt = np.arange(0, n_seconds, 1/fs)\nsignal = sim.sim_noisy_oscillator(n_seconds, fs, osc_freq, noise_model,\n                                  noise_args, ratio_osc_var=SNR)"
      ]
    },
    {
      "cell_type": "code",
      "execution_count": null,
      "metadata": {
        "collapsed": false
      },
      "outputs": [],
      "source": [
        "plt.figure(figsize=(12,3))\nsamps_plot = np.arange(1000)\nplt.plot(t[samps_plot], signal[samps_plot], 'k')\nplt.xlim((0,t[samps_plot[-1]]))\nplt.xlabel('Time (s)')\nplt.ylabel('Voltage')"
      ]
    },
    {
      "cell_type": "code",
      "execution_count": null,
      "metadata": {
        "collapsed": false
      },
      "outputs": [],
      "source": [
        "# Plot power spectrum\nf, psd = spectral.compute_spectrum(signal, fs)\nplt.figure(figsize=(5,5))\nplt.loglog(f, psd, 'k')\nplt.xlabel('Frequency (Hz)')\nplt.ylabel('Power')"
      ]
    },
    {
      "cell_type": "markdown",
      "metadata": {},
      "source": [
        "Simulate a bursting oscillator\n------------------------------\n\nSometimes we want to study oscillations that come and go, so it can be\nuseful to simulate oscillations with this property. We can do this by\ncontrolling the probability that a burst will start or stop with each new cycle.\n\n"
      ]
    },
    {
      "cell_type": "code",
      "execution_count": null,
      "metadata": {
        "collapsed": false
      },
      "outputs": [],
      "source": [
        "osc_freq = 30\nn_seconds = 3\nfs = 1000\nprob_enter_burst = .1\nprob_leave_burst = .1\n\nosc = sim.sim_bursty_oscillator(n_seconds, fs, osc_freq,\n                                prob_enter_burst=prob_enter_burst,\n                                prob_leave_burst=prob_leave_burst)"
      ]
    },
    {
      "cell_type": "code",
      "execution_count": null,
      "metadata": {
        "collapsed": false
      },
      "outputs": [],
      "source": [
        "plt.figure(figsize=(12,3))\nplt.plot(np.arange(0,n_seconds,1/fs), osc, 'k')\nplt.xlim((0,n_seconds))\nplt.xlabel('Time (s)')\nplt.ylabel('Voltage')"
      ]
    },
    {
      "cell_type": "markdown",
      "metadata": {},
      "source": [
        "We can shorten burst duration by increasing the probability to leave bursts\n\n"
      ]
    },
    {
      "cell_type": "code",
      "execution_count": null,
      "metadata": {
        "collapsed": false
      },
      "outputs": [],
      "source": [
        "prob_leave_burst = .4\n\nosc = sim.sim_bursty_oscillator(n_seconds, fs, osc_freq,\n                                prob_enter_burst=prob_enter_burst, prob_leave_burst=prob_leave_burst)\n\nplt.figure(figsize=(12,3))\nplt.plot(np.arange(0,n_seconds,1/fs), osc, 'k')\nplt.xlim((0,n_seconds))\nplt.xlabel('Time (s)')\nplt.ylabel('Voltage')"
      ]
    },
    {
      "cell_type": "markdown",
      "metadata": {},
      "source": [
        "We can increase the number of bursts by increasing the probability to enter a burst\n\n"
      ]
    },
    {
      "cell_type": "code",
      "execution_count": null,
      "metadata": {
        "collapsed": false
      },
      "outputs": [],
      "source": [
        "prob_enter_burst = .4\n\nosc = sim.sim_bursty_oscillator(n_seconds, fs, osc_freq,\n                                prob_enter_burst=prob_enter_burst, prob_leave_burst=prob_leave_burst)\n\nplt.figure(figsize=(12,3))\nplt.plot(np.arange(0,n_seconds,1/fs), osc, 'k')\nplt.xlim((0,n_seconds))\nplt.xlabel('Time (s)')\nplt.ylabel('Voltage')"
      ]
    },
    {
      "cell_type": "markdown",
      "metadata": {},
      "source": [
        "We can also control the variance in amplitude, period, and rise-decay\nsymmetry across cycles and bursts\n\nThis is done in the `cycle_features` argument, which is a dictionary\nthat can take the following keys:\n* amp_mean: mean cycle amplitude\n* amp_std: standard deviation of cycle amplitude\n* amp_burst_std: std. of mean amplitude for each burst\n* period_mean: mean period (computed from `freq`)\n* period_std: standard deviation of period (samples)\n* period_burst_std: standard deviation of mean period for each burst\n* rdsym_mean: mean rise-decay symmetry\n* rdsym_std: standard deviation of rdsym\n* rdsym_burst_std: standard deviation of mean rdsym for each burst\n\nSee the source code for the defaults used.\n\nFor example, we can increase the variability in amplitude by increasing\n`amp_std` (default = .1)\n\n"
      ]
    },
    {
      "cell_type": "code",
      "execution_count": null,
      "metadata": {
        "collapsed": false
      },
      "outputs": [],
      "source": [
        "cycle_features = {'amp_std': .5}\n\nosc = sim.sim_bursty_oscillator(n_seconds, fs, osc_freq,\n                                prob_enter_burst=prob_enter_burst, prob_leave_burst=prob_leave_burst, cycle_features=cycle_features)\n\nplt.figure(figsize=(12,3))\nplt.plot(np.arange(0,n_seconds,1/fs), osc, 'k')\nplt.xlim((0,n_seconds))\nplt.xlabel('Time (s)')\nplt.ylabel('Voltage')"
      ]
    },
    {
      "cell_type": "markdown",
      "metadata": {},
      "source": [
        "As with the stationary oscillator, we can also simulate a bursting\noscillator with brown noise.\n\n\n"
      ]
    },
    {
      "cell_type": "code",
      "execution_count": null,
      "metadata": {
        "collapsed": false
      },
      "outputs": [],
      "source": [
        "osc_freq = 10\nn_seconds = 5\nSNR=2.\n\nnoise_model = 'synaptic'\nnoise_args = {'n_neurons':1000, 'firing_rate':2, 't_ker':1.0, 'tau_r':0.002, 'tau_d':0.02}\nt = np.arange(0, n_seconds, 1/fs)\nosc = sim.sim_noisy_bursty_oscillator(n_seconds, fs, osc_freq, noise_model, noise_args, ratio_osc_var=SNR)\n\nplt.figure(figsize=(12,3))\nplt.plot(t, osc, 'k')\nplt.xlim((0,n_seconds))\nplt.xlabel('Time (s)')\nplt.ylabel('Voltage')"
      ]
    },
    {
      "cell_type": "code",
      "execution_count": null,
      "metadata": {
        "collapsed": false
      },
      "outputs": [],
      "source": [
        "# Plot power spectrum\nf, psd = spectral.compute_spectrum(osc, fs)\nplt.figure(figsize=(5,5))\nplt.loglog(f, psd, 'k')\nplt.xlabel('Frequency (Hz)')\nplt.ylabel('Power')"
      ]
    }
  ],
  "metadata": {
    "kernelspec": {
      "display_name": "Python 3",
      "language": "python",
      "name": "python3"
    },
    "language_info": {
      "codemirror_mode": {
        "name": "ipython",
        "version": 3
      },
      "file_extension": ".py",
      "mimetype": "text/x-python",
      "name": "python",
      "nbconvert_exporter": "python",
      "pygments_lexer": "ipython3",
      "version": "3.7.1"
    }
  },
  "nbformat": 4,
  "nbformat_minor": 0
}