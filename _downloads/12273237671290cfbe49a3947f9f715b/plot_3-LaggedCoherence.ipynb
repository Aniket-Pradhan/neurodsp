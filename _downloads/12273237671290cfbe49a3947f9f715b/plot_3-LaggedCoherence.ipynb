{
  "cells": [
    {
      "cell_type": "code",
      "execution_count": null,
      "metadata": {
        "collapsed": false
      },
      "outputs": [],
      "source": [
        "%matplotlib inline"
      ]
    },
    {
      "cell_type": "markdown",
      "metadata": {},
      "source": [
        "\nLagged Coherence\n================\n\nCompute lagged coherence on neural signals.\n\nThis tutorial primarily covers :mod:`neurodsp.laggedcoherence`.\n\n"
      ]
    },
    {
      "cell_type": "markdown",
      "metadata": {},
      "source": [
        "Overview\n--------\n\nLagged coherence is a measure to quantify the rhythmicity of neural signals.\n\nFor more details on the lagged coherence measure see Fransen et al., 2015, Neuroimage.\n\n\n"
      ]
    },
    {
      "cell_type": "code",
      "execution_count": null,
      "metadata": {
        "collapsed": false
      },
      "outputs": [],
      "source": [
        "import numpy as np\nimport matplotlib.pyplot as plt\n\nfrom neurodsp.laggedcoherence import lagged_coherence"
      ]
    },
    {
      "cell_type": "code",
      "execution_count": null,
      "metadata": {
        "collapsed": false
      },
      "outputs": [],
      "source": [
        "# Set the random seed, for consistency simulating data\nnp.random.seed(0)"
      ]
    },
    {
      "cell_type": "markdown",
      "metadata": {},
      "source": [
        "Simulate signal with oscillatory bursts\n---------------------------------------\n\n\n"
      ]
    },
    {
      "cell_type": "code",
      "execution_count": null,
      "metadata": {
        "collapsed": false
      },
      "outputs": [],
      "source": [
        "# Parameters for simulated signal\nn_samples = 5000\nfs = 1000\nburst_freq = 10\nburst_starts = [0, 3000]\nburst_seconds = 1\nburst_samples = burst_seconds*fs"
      ]
    },
    {
      "cell_type": "code",
      "execution_count": null,
      "metadata": {
        "collapsed": false
      },
      "outputs": [],
      "source": [
        "# Design burst kernel\nburst_kernel_t = np.arange(0, burst_seconds, 1/fs)\nburst_kernel = 2*np.sin(burst_kernel_t*2*np.pi*burst_freq)\n\n# Generate random signal with bursts\ntimes = np.arange(0, n_samples/fs, 1/fs)\nsig = np.random.randn(n_samples)\nfor ind in burst_starts:\n    sig[ind:ind+burst_samples] += burst_kernel"
      ]
    },
    {
      "cell_type": "code",
      "execution_count": null,
      "metadata": {
        "collapsed": false
      },
      "outputs": [],
      "source": [
        "# Plot example signal\nplt.figure(figsize=(12, 3))\nplt.plot(times, sig, 'k')"
      ]
    },
    {
      "cell_type": "markdown",
      "metadata": {},
      "source": [
        "Compute lagged coherence for an alpha oscillation\n-------------------------------------------------\n\n\n"
      ]
    },
    {
      "cell_type": "code",
      "execution_count": null,
      "metadata": {
        "collapsed": false
      },
      "outputs": [],
      "source": [
        "f_range = (8, 12)\nlag_coh_alpha = lagged_coherence(sig, f_range, fs)\nprint('Lagged coherence = ', lag_coh_alpha)"
      ]
    },
    {
      "cell_type": "markdown",
      "metadata": {},
      "source": [
        "Compute lagged coherence across the frequency spectrum\n------------------------------------------------------\n\nNotice that lagged coherence peaks around 10Hz (the frequency of our\noscillator), but it is not very specific to that frequency.\n\n\n"
      ]
    },
    {
      "cell_type": "code",
      "execution_count": null,
      "metadata": {
        "collapsed": false
      },
      "outputs": [],
      "source": [
        "lag_coh_by_f, freqs = lagged_coherence(sig, (1, 40), fs, return_spectrum=True)\n\n# Visualize lagged coherence as a function of frequency\nplt.figure(figsize=(6, 3))\nplt.plot(freqs, lag_coh_by_f, 'k.-')\nplt.xlabel('Frequency (Hz)')\nplt.ylabel('Lagged coherence')\nplt.tight_layout()"
      ]
    },
    {
      "cell_type": "markdown",
      "metadata": {},
      "source": [
        "Compute lagged coherence for time segments with and without burst\n-----------------------------------------------------------------\n\nNote that lagged coherence is greater when analyzing a neural signal that\nhas a burst in the frequency range of interest, compared to a signal that\ndoes not have an oscillator.\n\n\n"
      ]
    },
    {
      "cell_type": "code",
      "execution_count": null,
      "metadata": {
        "collapsed": false
      },
      "outputs": [],
      "source": [
        "samp_burst = np.arange(1000)\nsamp_noburst = np.arange(1000, 2000)\n\nlag_coh_burst = lagged_coherence(sig[samp_burst], f_range, fs)\nlag_coh_noburst = lagged_coherence(sig[samp_noburst], f_range, fs)\nprint('Lagged coherence, bursting = ', lag_coh_burst)\nprint('Lagged coherence, not bursting = ', lag_coh_noburst)"
      ]
    },
    {
      "cell_type": "markdown",
      "metadata": {},
      "source": [
        "Compute lagged coherence of an example neural signal\n----------------------------------------------------\n\n\n"
      ]
    },
    {
      "cell_type": "code",
      "execution_count": null,
      "metadata": {
        "collapsed": false
      },
      "outputs": [],
      "source": [
        "# Load signal\nsig = np.load('./data/sample_data_1.npy')\nsig_filt_true = np.load('./data/sample_data_1_filt.npy')\nfs = 1000\ntimes = np.arange(0, len(sig)/fs, 1/fs)\nf_range = (13, 30)"
      ]
    },
    {
      "cell_type": "code",
      "execution_count": null,
      "metadata": {
        "collapsed": false
      },
      "outputs": [],
      "source": [
        "# Plot example signal\nplt.figure(figsize=(12, 3))\nplt.plot(times, sig, 'k')\nplt.xlim((0, 5))\nplt.xlabel('Time (s)')\nplt.ylabel('Voltage (uV)')\nplt.tight_layout()"
      ]
    },
    {
      "cell_type": "code",
      "execution_count": null,
      "metadata": {
        "collapsed": false
      },
      "outputs": [],
      "source": [
        "f_range = (13, 30)\nlag_coh_beta = lagged_coherence(sig, f_range, fs)\nprint('Lagged coherence = ', lag_coh_beta)"
      ]
    },
    {
      "cell_type": "markdown",
      "metadata": {},
      "source": [
        "Sphinx settings:\nsphinx_gallery_thumbnail_number = 2\n\n\n"
      ]
    }
  ],
  "metadata": {
    "kernelspec": {
      "display_name": "Python 3",
      "language": "python",
      "name": "python3"
    },
    "language_info": {
      "codemirror_mode": {
        "name": "ipython",
        "version": 3
      },
      "file_extension": ".py",
      "mimetype": "text/x-python",
      "name": "python",
      "nbconvert_exporter": "python",
      "pygments_lexer": "ipython3",
      "version": "3.7.1"
    }
  },
  "nbformat": 4,
  "nbformat_minor": 0
}