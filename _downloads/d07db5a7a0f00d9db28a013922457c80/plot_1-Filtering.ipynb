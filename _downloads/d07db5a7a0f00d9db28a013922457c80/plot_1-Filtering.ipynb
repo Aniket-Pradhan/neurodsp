{
  "cells": [
    {
      "cell_type": "code",
      "execution_count": null,
      "metadata": {
        "collapsed": false
      },
      "outputs": [],
      "source": [
        "%matplotlib inline"
      ]
    },
    {
      "cell_type": "markdown",
      "metadata": {},
      "source": [
        "\nFiltering\n=========\n\nThis tutorial covers using digital filters, and is broken down into the following sections:\n\n1. Bandpass filter: extract a single oscillator from your signal\n2. Highpass, lowpass, and bandstop filters: remove power in unwanted frequency ranges\n3. Time-frequency resolution tradeoff: Change the filter length\n4. Infinite-impulse-response (IIR) filter option.\n5. Beta bandpass filter on a neural signal\n\n"
      ]
    },
    {
      "cell_type": "code",
      "execution_count": null,
      "metadata": {
        "collapsed": false
      },
      "outputs": [],
      "source": [
        "import numpy as np\nimport matplotlib.pyplot as plt\n\nfrom neurodsp import filt"
      ]
    },
    {
      "cell_type": "code",
      "execution_count": null,
      "metadata": {
        "collapsed": false
      },
      "outputs": [],
      "source": [
        "# Set the random seed, for consistency simulating data\nnp.random.seed(0)"
      ]
    },
    {
      "cell_type": "markdown",
      "metadata": {},
      "source": [
        "1. Bandpass filter\n------------------\n\nExtract signal within a specific frequency range (e.g. theta, 4-8 Hz).\n\n\n"
      ]
    },
    {
      "cell_type": "code",
      "execution_count": null,
      "metadata": {
        "collapsed": false
      },
      "outputs": [],
      "source": [
        "# Generate an oscillation with noise\ntimes = np.arange(0, 4, .001)\nsig = np.random.randn(len(times)) + 5*np.sin(times*2*np.pi*6)\nfs = 1000"
      ]
    },
    {
      "cell_type": "code",
      "execution_count": null,
      "metadata": {
        "collapsed": false
      },
      "outputs": [],
      "source": [
        "# Filter the data, across a frequency band of interest\nfc = (4, 8)\nsig_filt = filt.filter_signal(sig, fs, 'bandpass', fc)"
      ]
    },
    {
      "cell_type": "code",
      "execution_count": null,
      "metadata": {
        "collapsed": false
      },
      "outputs": [],
      "source": [
        "# Plot filtered signal\nplt.figure(figsize=(15, 3))\nplt.plot(times, sig, 'k', label='raw')\nplt.plot(times, sig_filt, 'r', label='filtered')\nplt.legend(loc='best')"
      ]
    },
    {
      "cell_type": "markdown",
      "metadata": {},
      "source": [
        "Notice that the edges of the filtered signal are clipped (no red).\n\nEdge artifact removal is done by default in :func:`filter_signal`, because\nthe signal samples at the edges only experienced part of the filter.\n\nTo bypass this feature, set `remove_edge_artifacts=False`, but at your own risk!\n\n\n"
      ]
    },
    {
      "cell_type": "markdown",
      "metadata": {},
      "source": [
        "2. Highpass, lowpass, and bandstop filters\n------------------------------------------\n\n2a. Highpass filter\n~~~~~~~~~~~~~~~~~~~\n\nRemove low frequency drift from the data\n\n\n"
      ]
    },
    {
      "cell_type": "code",
      "execution_count": null,
      "metadata": {
        "collapsed": false
      },
      "outputs": [],
      "source": [
        "# Generate a signal with a low-frequency drift\ntimes = np.arange(0, 6, .001)\nsig = np.random.randn(len(times)) + 5 * np.sin(times*2*np.pi*3) + 4 * np.sin(times*2*np.pi*.5)"
      ]
    },
    {
      "cell_type": "code",
      "execution_count": null,
      "metadata": {
        "collapsed": false
      },
      "outputs": [],
      "source": [
        "# Filter the data\nfc = 2\nsig_filt = filt.filter_signal(sig, fs, 'highpass', (fc, None))"
      ]
    },
    {
      "cell_type": "code",
      "execution_count": null,
      "metadata": {
        "collapsed": false
      },
      "outputs": [],
      "source": [
        "# Plot filtered signal\nplt.figure(figsize=(15, 3))\nplt.plot(times, sig, 'k', label='raw')\nplt.plot(times, sig_filt, 'r', label='filtered')\nplt.legend(loc='best')"
      ]
    },
    {
      "cell_type": "markdown",
      "metadata": {},
      "source": [
        "2b. Lowpass filter\n~~~~~~~~~~~~~~~~~~\n\nRemove high frequency activity from the data.\n\n\n"
      ]
    },
    {
      "cell_type": "code",
      "execution_count": null,
      "metadata": {
        "collapsed": false
      },
      "outputs": [],
      "source": [
        "# Generate a signal with a low-frequency drift\ntimes = np.arange(0, 6, .001)\nsig = np.random.randn(len(times)) + 5 * np.sin(times*2*np.pi*3) + 4 * np.sin(times*2*np.pi*.5)"
      ]
    },
    {
      "cell_type": "code",
      "execution_count": null,
      "metadata": {
        "collapsed": false
      },
      "outputs": [],
      "source": [
        "# Filter the data\nfc = 20\nsig_filt = filt.filter_signal(sig, fs, 'lowpass', (None, fc))"
      ]
    },
    {
      "cell_type": "code",
      "execution_count": null,
      "metadata": {
        "collapsed": false
      },
      "outputs": [],
      "source": [
        "# Plot filtered signal\nplt.figure(figsize=(15, 3))\nplt.plot(times, sig, 'k', label='raw')\nplt.plot(times, sig_filt, 'r', label='filtered')\nplt.legend(loc='best')"
      ]
    },
    {
      "cell_type": "markdown",
      "metadata": {},
      "source": [
        "2c. Bandstop filter\n~~~~~~~~~~~~~~~~~~~\n\nRemove 60Hz noise from the data\n\nNotice that it is necessary to set a nondefault filter length because\na filter of length 3 cycles of a 58Hz oscillation would not attenuate\nthe 60Hz oscillation much (try this yourself!).\n\n\n"
      ]
    },
    {
      "cell_type": "code",
      "execution_count": null,
      "metadata": {
        "collapsed": false
      },
      "outputs": [],
      "source": [
        "# Generate a signal with a low-frequency drift\ntimes = np.arange(0, 8, .001)\nsig = 5 * np.sin(times*2*np.pi*5) + 2 * np.sin(times*2*np.pi*60)"
      ]
    },
    {
      "cell_type": "code",
      "execution_count": null,
      "metadata": {
        "collapsed": false
      },
      "outputs": [],
      "source": [
        "# Filter the data\nfc = (58, 62)\nsig_filt = filt.filter_signal(sig, fs, 'bandstop', fc=fc, n_seconds=0.5)"
      ]
    },
    {
      "cell_type": "code",
      "execution_count": null,
      "metadata": {
        "collapsed": false
      },
      "outputs": [],
      "source": [
        "# Plot filtered signal\nplt.figure(figsize=(15, 3))\nplt.plot(times, sig, 'k', label='raw')\nplt.plot(times, sig_filt, 'r', label='filtered')\nplt.legend(loc='best')"
      ]
    },
    {
      "cell_type": "code",
      "execution_count": null,
      "metadata": {
        "collapsed": false
      },
      "outputs": [],
      "source": [
        "# Note the user warning above.\n# This is because in the computed frequency response (below),\n# the attenuation in the stopband does not go below 20dB.\nsig_filt = filt.filter_signal(sig, fs, 'bandstop', fc=fc, n_seconds=0.25,\n                              plot_freq_response=True)"
      ]
    },
    {
      "cell_type": "code",
      "execution_count": null,
      "metadata": {
        "collapsed": false
      },
      "outputs": [],
      "source": [
        "# This user warning disappears if we elongate the filter\nsig_filt = filt.filter_signal(sig, fs, 'bandstop', fc=fc, n_seconds=1,\n                              plot_freq_response=True)"
      ]
    },
    {
      "cell_type": "markdown",
      "metadata": {},
      "source": [
        "3. Time-frequency resolution tradeoff\n-------------------------------------\n\nWith longer filter kernels, we get improved frequency resolution,\nbut worse time resolution.\n\nTwo bandpass filters (one long and one short)\n~~~~~~~~~~~~~~~~~~~~~~~~~~~~~~~~~~~~~~~~~~~~~\n\nNotice that the short filter preserves the start of the oscillation\nbetter than the long filter (i.e. better time resolution).\n\nNotice that the long filter correctly removed the 1Hz oscillation,\nbut the short filter did not (i.e. better frequency resolution).\n\n\n"
      ]
    },
    {
      "cell_type": "code",
      "execution_count": null,
      "metadata": {
        "collapsed": false
      },
      "outputs": [],
      "source": [
        "# Generate an oscillation with noise\ntimes = np.arange(0, 3, .01)\nsig = np.random.randn(len(times)) * .3 + 5 * np.sin(times*2*np.pi*6) + 4 * np.sin(times*2*np.pi*1)\nfs = 100"
      ]
    },
    {
      "cell_type": "code",
      "execution_count": null,
      "metadata": {
        "collapsed": false
      },
      "outputs": [],
      "source": [
        "# Set the first second to 0\nsig[:fs] = 0\n\n# Define the frequency band of interest\nfc = (4, 8)"
      ]
    },
    {
      "cell_type": "code",
      "execution_count": null,
      "metadata": {
        "collapsed": false
      },
      "outputs": [],
      "source": [
        "# Filter the data\nsig_filt_short = filt.filter_signal(sig, fs, 'bandpass', fc=fc, n_seconds=.1)\nsig_filt_long = filt.filter_signal(sig, fs, 'bandpass', fc=fc, n_seconds=1)"
      ]
    },
    {
      "cell_type": "code",
      "execution_count": null,
      "metadata": {
        "collapsed": false
      },
      "outputs": [],
      "source": [
        "# Plot filtered signal\nplt.figure(figsize=(15, 3))\nplt.plot(times, sig, 'k', label='raw')\nplt.plot(times, sig_filt_short, 'r', label='short filter')\nplt.plot(times, sig_filt_long, 'b', label='long filter')\nplt.legend(loc='best')"
      ]
    },
    {
      "cell_type": "code",
      "execution_count": null,
      "metadata": {
        "collapsed": false
      },
      "outputs": [],
      "source": [
        "# Visualize the kernels and frequency responses\nprint('Short filter')\nsig_filt_short = filt.filter_signal(sig, fs, 'bandpass', fc=fc, n_seconds=.1,\n                                    plot_freq_response=True)\nprint('\\n\\nLong filter')\nsig_filt_long = filt.filter_signal(sig, fs, 'bandpass', fc=fc, n_seconds=1,\n                                   plot_freq_response=True)"
      ]
    },
    {
      "cell_type": "markdown",
      "metadata": {},
      "source": [
        "4. Infinite impulse response (IIR) filter option\n------------------------------------------------\n\nSo far, the filters that we've been using are finite impulse response\n(FIR) filters. These filters are nice because we have good control over\ntheir properties (by manipulating the time-frequency resolution tradeoff\nthrough the filter length).\n\nHowever, sometimes we may not be as concerned with the precise filter\nproperties, and so there is a faster option: IIR filters. We often use\nthese filters when removing 60Hz line noise.\n\nHere we apply a 3rd order butterworth filter to remove 60Hz noise.\nNotice that some edge artifacts remain.\n\n\n"
      ]
    },
    {
      "cell_type": "code",
      "execution_count": null,
      "metadata": {
        "collapsed": false
      },
      "outputs": [],
      "source": [
        "# Generate a signal with a low-frequency drift\ntimes = np.arange(0, 2, .001)\nsig = 5 * np.sin(times*2*np.pi*5) + 2 * np.sin(times*2*np.pi*60)\nfs = 1000"
      ]
    },
    {
      "cell_type": "code",
      "execution_count": null,
      "metadata": {
        "collapsed": false
      },
      "outputs": [],
      "source": [
        "# Low-pass filter the signal at 100Hz, just for fun.\nsig = filt.filter_signal(sig, fs, 'lowpass', fc=100)"
      ]
    },
    {
      "cell_type": "code",
      "execution_count": null,
      "metadata": {
        "collapsed": false
      },
      "outputs": [],
      "source": [
        "# Filter the data\nfc = (58, 62)\nsig_filt = filt.filter_signal(sig, fs, 'bandstop', fc=fc, iir=True, butterworth_order=3)"
      ]
    },
    {
      "cell_type": "code",
      "execution_count": null,
      "metadata": {
        "collapsed": false
      },
      "outputs": [],
      "source": [
        "# Plot filtered signal\nplt.figure(figsize=(15, 3))\nplt.plot(times, sig, 'k', label='raw')\nplt.plot(times, sig_filt, 'r', label='filtered')\nplt.legend(loc='best')\nplt.xlim((0, .2))"
      ]
    },
    {
      "cell_type": "markdown",
      "metadata": {},
      "source": [
        "5. Beta bandpass filter on neural signal\n----------------------------------------\n\n"
      ]
    },
    {
      "cell_type": "code",
      "execution_count": null,
      "metadata": {
        "collapsed": false
      },
      "outputs": [],
      "source": [
        "# Generate a signal with a low-frequency drift\nsig = np.load('./data/sample_data_1.npy')\nfs = 1000\ntimes = np.arange(0, len(sig)/fs, 1/fs)"
      ]
    },
    {
      "cell_type": "code",
      "execution_count": null,
      "metadata": {
        "collapsed": false
      },
      "outputs": [],
      "source": [
        "# Filter the data\n# If you want to get rid of the transition band printouts, set verbose=False\nfc = (13, 30)\nsig_filt, kernel = filt.filter_signal(sig, fs, 'bandpass', fc=fc, n_cycles=3,\n                                      plot_freq_response=True, return_kernel=True,\n                                      verbose=False)"
      ]
    },
    {
      "cell_type": "code",
      "execution_count": null,
      "metadata": {
        "collapsed": false
      },
      "outputs": [],
      "source": [
        "# Plot filtered signal\nplt.figure(figsize=(15, 3))\nplt.plot(times, sig, 'k', label='raw')\nplt.plot(times, sig_filt, 'r', label='filtered')\nplt.xlim((2, 5))\nplt.legend(loc='best')"
      ]
    },
    {
      "cell_type": "markdown",
      "metadata": {},
      "source": [
        "Notice that in the filtered time series, the resulting oscillation appears to be\nmore sinusoidal than the original signal really is.\n\nIf you are interested in this problem, and how to deal with it, you should check out\n`bycycle <https://bycycle-tools.github.io/bycycle/>`_,\nwhich is a tool for time-domain analyses of waveform shape.\n\n\n"
      ]
    }
  ],
  "metadata": {
    "kernelspec": {
      "display_name": "Python 3",
      "language": "python",
      "name": "python3"
    },
    "language_info": {
      "codemirror_mode": {
        "name": "ipython",
        "version": 3
      },
      "file_extension": ".py",
      "mimetype": "text/x-python",
      "name": "python",
      "nbconvert_exporter": "python",
      "pygments_lexer": "ipython3",
      "version": "3.7.1"
    }
  },
  "nbformat": 4,
  "nbformat_minor": 0
}