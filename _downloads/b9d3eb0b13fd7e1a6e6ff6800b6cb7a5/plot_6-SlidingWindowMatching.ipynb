{
  "cells": [
    {
      "cell_type": "code",
      "execution_count": null,
      "metadata": {
        "collapsed": false
      },
      "outputs": [],
      "source": [
        "%matplotlib inline"
      ]
    },
    {
      "cell_type": "markdown",
      "metadata": {},
      "source": [
        "\nSliding Window Matching\n=======================\n\nFind recurrent patterns in a neural signal using Sliding Window Matching.\n\nThis notebook shows how to implement sliding window matching (SWM) for\nidentifying recurring patterns in a neural signal, like the shape of an\noscillatory waveform.\n\nFor more details, see Gips et al., 2017, J Neuro Methods.\n\n"
      ]
    },
    {
      "cell_type": "code",
      "execution_count": null,
      "metadata": {
        "collapsed": false
      },
      "outputs": [],
      "source": [
        "import numpy as np\nimport matplotlib.pyplot as plt\n\nfrom neurodsp.swm import sliding_window_matching"
      ]
    },
    {
      "cell_type": "code",
      "execution_count": null,
      "metadata": {
        "collapsed": false
      },
      "outputs": [],
      "source": [
        "# Set the random seed, for consistency simulating data\nnp.random.seed(0)"
      ]
    },
    {
      "cell_type": "markdown",
      "metadata": {},
      "source": [
        "Load neural signal\n------------------\n\n\n"
      ]
    },
    {
      "cell_type": "code",
      "execution_count": null,
      "metadata": {
        "collapsed": false
      },
      "outputs": [],
      "source": [
        "# Load example data\nsig = np.load('./data/sample_data_1.npy')\nfs = 1000\ntimes = np.arange(0, len(sig)/fs, 1/fs)\nf_range = (13, 30)\n\n# Plot example signal\nplt.figure(figsize=(12, 3))\nplt.plot(times, sig, 'k')\nplt.xlim((4, 5))\nplt.xlabel('Time (s)')\nplt.ylabel('Voltage (uV)')\nplt.tight_layout()"
      ]
    },
    {
      "cell_type": "markdown",
      "metadata": {},
      "source": [
        "Apply sliding window matching to neural signal\n----------------------------------------------\n\nBecause we define the window length to be about 1 cycle, this should\nroughly extract the waveform shape of the neural oscillation. Notice\nthat the beta cycles have sharper troughs than peaks, and the average\nwindow is a beta cycle with a sharp trough.\n\nHowever, notice that these results change dramatically by changing the\nrandom seed. Using more data and increasing the number of iterations\nwould help the robustness of the algorithm.\n\n\n"
      ]
    },
    {
      "cell_type": "code",
      "execution_count": null,
      "metadata": {
        "collapsed": false
      },
      "outputs": [],
      "source": [
        "# Define window length & minimum window spacing, both in seconds\nwin_len = .055\nwin_spacing = .2\n\n# Apply the sliding window matching algorithm to the time series\navg_window, window_starts, J = sliding_window_matching(sig, fs, win_len, win_spacing,\n                                                       max_iterations=500)"
      ]
    },
    {
      "cell_type": "code",
      "execution_count": null,
      "metadata": {
        "collapsed": false
      },
      "outputs": [],
      "source": [
        "# Plot the discovered pattern\nplt.figure(figsize=(4, 4))\nplt.plot(avg_window, 'k')\nplt.xlabel('Time (samples)')\nplt.ylabel('Voltage (a.u.)')\nplt.title('Average pattern in neural signal')\nplt.tight_layout()"
      ]
    },
    {
      "cell_type": "markdown",
      "metadata": {},
      "source": [
        "Sphinx settings:\nsphinx_gallery_thumbnail_number = 2\n\n\n"
      ]
    }
  ],
  "metadata": {
    "kernelspec": {
      "display_name": "Python 3",
      "language": "python",
      "name": "python3"
    },
    "language_info": {
      "codemirror_mode": {
        "name": "ipython",
        "version": 3
      },
      "file_extension": ".py",
      "mimetype": "text/x-python",
      "name": "python",
      "nbconvert_exporter": "python",
      "pygments_lexer": "ipython3",
      "version": "3.7.1"
    }
  },
  "nbformat": 4,
  "nbformat_minor": 0
}