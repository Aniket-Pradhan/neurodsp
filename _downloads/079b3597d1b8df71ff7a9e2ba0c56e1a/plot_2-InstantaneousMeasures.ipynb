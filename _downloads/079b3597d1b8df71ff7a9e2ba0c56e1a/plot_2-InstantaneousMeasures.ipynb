{
  "cells": [
    {
      "cell_type": "code",
      "execution_count": null,
      "metadata": {
        "collapsed": false
      },
      "outputs": [],
      "source": [
        "%matplotlib inline"
      ]
    },
    {
      "cell_type": "markdown",
      "metadata": {},
      "source": [
        "\nTime-frequency analysis\n=======================\n\nEstimate instantaneous measures of phase, amplitude, and frequency.\n\nThis tutorial primarily covers :mod:`neurodsp.timefrequency`.\n\n"
      ]
    },
    {
      "cell_type": "code",
      "execution_count": null,
      "metadata": {
        "collapsed": false
      },
      "outputs": [],
      "source": [
        "import numpy as np\nimport matplotlib.pyplot as plt\n\nfrom neurodsp.timefrequency import amp_by_time, freq_by_time, phase_by_time\nfrom neurodsp.plts.time_series import plot_time_series, plot_instantaneous_measure"
      ]
    },
    {
      "cell_type": "markdown",
      "metadata": {},
      "source": [
        "Load example neural signal\n--------------------------\n\n"
      ]
    },
    {
      "cell_type": "code",
      "execution_count": null,
      "metadata": {
        "collapsed": false
      },
      "outputs": [],
      "source": [
        "sig = np.load('./data/sample_data_1.npy')\nfs = 1000\ntimes = np.arange(0, len(sig)/fs, 1/fs)\nf_range = (13, 30)\n\n# Load filtered version of signal\nsig_filt_true = np.load('./data/sample_data_1_filt.npy')"
      ]
    },
    {
      "cell_type": "code",
      "execution_count": null,
      "metadata": {
        "collapsed": false
      },
      "outputs": [],
      "source": [
        "# Plot signal\nplot_time_series(times, sig)"
      ]
    },
    {
      "cell_type": "markdown",
      "metadata": {},
      "source": [
        "Compute and plot instantaneous phase\n------------------------------------\n\n"
      ]
    },
    {
      "cell_type": "code",
      "execution_count": null,
      "metadata": {
        "collapsed": false
      },
      "outputs": [],
      "source": [
        "# Compute instaneous phase from a signal\npha = phase_by_time(sig, fs, f_range)"
      ]
    },
    {
      "cell_type": "code",
      "execution_count": null,
      "metadata": {
        "collapsed": false
      },
      "outputs": [],
      "source": [
        "# Plot example signal\n_, axs = plt.subplots(2, 1, figsize=(15, 6))\nplot_time_series(times, sig, xlim=[4, 5], xlabel=None, ax=axs[0])\nplot_instantaneous_measure(times, pha, xlim=[4, 5], ax=axs[1])"
      ]
    },
    {
      "cell_type": "markdown",
      "metadata": {},
      "source": [
        "Compute and plot instantaneous amplitude\n----------------------------------------\n\n"
      ]
    },
    {
      "cell_type": "code",
      "execution_count": null,
      "metadata": {
        "collapsed": false
      },
      "outputs": [],
      "source": [
        "# Compute instaneous amplitude from a signal\namp = amp_by_time(sig, fs, f_range)"
      ]
    },
    {
      "cell_type": "code",
      "execution_count": null,
      "metadata": {
        "collapsed": false
      },
      "outputs": [],
      "source": [
        "# Plot example signal\n_, axs = plt.subplots(2, 1, figsize=(15, 6))\nplot_instantaneous_measure(times, [sig, amp], 'amplitude',\n                           labels=['Raw Voltage', 'Amplitude'],\n                           xlim=[4, 5], xlabel=None, ax=axs[0])\nplot_instantaneous_measure(times, [sig_filt_true, amp], 'amplitude',\n                           labels=['Raw Voltage', 'Amplitude'], colors=['b', 'r'],\n                           xlim=[4, 5], ax=axs[1])"
      ]
    },
    {
      "cell_type": "markdown",
      "metadata": {},
      "source": [
        "Compute and plot instantaneous frequency\n----------------------------------------\n\nNote that some people apply median filters to this instantaneous frequency\nestimate in order to make it smoother (see e.g. Samaha & Postle, 2015)\n\n\n"
      ]
    },
    {
      "cell_type": "code",
      "execution_count": null,
      "metadata": {
        "collapsed": false
      },
      "outputs": [],
      "source": [
        "# Compute instaneous frequency from a signal\ni_f = freq_by_time(sig, fs, f_range)"
      ]
    },
    {
      "cell_type": "code",
      "execution_count": null,
      "metadata": {
        "collapsed": false
      },
      "outputs": [],
      "source": [
        "# Plot example signal\n_, axs = plt.subplots(3, 1, figsize=(15, 9))\nplot_time_series(times, sig, 'Raw Voltage', xlim=[4, 5], xlabel=None, ax=axs[0])\nplot_time_series(times, sig_filt_true,\n                 labels='Beta Filtered Voltage', colors='b',\n                 xlim=[4, 5], xlabel=None, ax=axs[1])\nplot_instantaneous_measure(times, i_f, 'frequency', colors='r',\n                           xlim=[4, 5], ylim=[10, 30], ax=axs[2])"
      ]
    },
    {
      "cell_type": "markdown",
      "metadata": {},
      "source": [
        "Sphinx settings:\nsphinx_gallery_thumbnail_number = 3\n\n\n"
      ]
    }
  ],
  "metadata": {
    "kernelspec": {
      "display_name": "Python 3",
      "language": "python",
      "name": "python3"
    },
    "language_info": {
      "codemirror_mode": {
        "name": "ipython",
        "version": 3
      },
      "file_extension": ".py",
      "mimetype": "text/x-python",
      "name": "python",
      "nbconvert_exporter": "python",
      "pygments_lexer": "ipython3",
      "version": "3.7.1"
    }
  },
  "nbformat": 4,
  "nbformat_minor": 0
}